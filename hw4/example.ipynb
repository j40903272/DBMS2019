{
 "cells": [
  {
   "cell_type": "markdown",
   "metadata": {},
   "source": [
    "# HW4 Part 1 - RDB programming"
   ]
  },
  {
   "cell_type": "code",
   "execution_count": 1,
   "metadata": {},
   "outputs": [
    {
     "name": "stdout",
     "output_type": "stream",
     "text": [
      "Student name : TA123\n",
      "Student ID : R123456789\n"
     ]
    }
   ],
   "source": [
    "# Please edit \n",
    "print(\"Student name : {}\".format(\"TA123\"))\n",
    "print(\"Student ID : {}\".format(\"R123456789\"))"
   ]
  },
  {
   "cell_type": "code",
   "execution_count": null,
   "metadata": {},
   "outputs": [],
   "source": [
    "import os\n",
    "import numpy as np\n",
    "## import other libraries"
   ]
  },
  {
   "cell_type": "markdown",
   "metadata": {},
   "source": [
    "Write a python program to extract and print out the following information from the student table that your created. To extract information, you shall issue SQL statements from Python."
   ]
  },
  {
   "cell_type": "markdown",
   "metadata": {},
   "source": [
    "(1) The information about yourself f (You can use either your name or your student ID to select out yourself.) 15%"
   ]
  },
  {
   "cell_type": "code",
   "execution_count": 2,
   "metadata": {},
   "outputs": [],
   "source": [
    "## create/import table in mysql\n",
    "\n",
    "\n",
    "## print out the table that you have imported \n",
    "\n",
    "\n",
    "## show the information about yourself\n"
   ]
  },
  {
   "cell_type": "markdown",
   "metadata": {},
   "source": [
    "(2) The list of your peer students. The definition of “peer student” is as follows: 15%\n",
    "* For undergraduate students, your peer students are those in the same department and same year as you.\n",
    "* For graduate students, your peer students are those in the same graduate program and same year as your.\n",
    "* Note: If using the above definition, you have only one peer student, you shall relax the definition, in turn, to your whole departement or whole college."
   ]
  },
  {
   "cell_type": "code",
   "execution_count": 3,
   "metadata": {},
   "outputs": [],
   "source": [
    "### your code ###\n",
    "\n"
   ]
  },
  {
   "cell_type": "markdown",
   "metadata": {},
   "source": [
    "(3) The total number of students taking the class, but not counting the sit-in students (旁聽生). 10%"
   ]
  },
  {
   "cell_type": "code",
   "execution_count": null,
   "metadata": {},
   "outputs": [],
   "source": [
    "### your code ###"
   ]
  }
 ],
 "metadata": {
  "kernelspec": {
   "display_name": "Python 3",
   "language": "python",
   "name": "python3"
  },
  "language_info": {
   "codemirror_mode": {
    "name": "ipython",
    "version": 3
   },
   "file_extension": ".py",
   "mimetype": "text/x-python",
   "name": "python",
   "nbconvert_exporter": "python",
   "pygments_lexer": "ipython3",
   "version": "3.7.3"
  }
 },
 "nbformat": 4,
 "nbformat_minor": 2
}
